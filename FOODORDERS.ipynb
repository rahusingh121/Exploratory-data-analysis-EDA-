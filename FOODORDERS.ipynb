{
 "cells": [
  {
   "cell_type": "code",
   "execution_count": 1,
   "id": "faf377ae",
   "metadata": {},
   "outputs": [],
   "source": [
    "#we have imported the pandas libarary"
   ]
  },
  {
   "cell_type": "code",
   "execution_count": 1,
   "id": "e8f10822",
   "metadata": {},
   "outputs": [],
   "source": [
    "import pandas as pd"
   ]
  },
  {
   "cell_type": "code",
   "execution_count": 2,
   "id": "7740616a",
   "metadata": {},
   "outputs": [],
   "source": [
    "import seaborn as sns"
   ]
  },
  {
   "cell_type": "code",
   "execution_count": 3,
   "id": "ccf5750d",
   "metadata": {},
   "outputs": [],
   "source": [
    "df=pd.read_csv('https://bit.ly//chiporders',sep='\\t')"
   ]
  },
  {
   "cell_type": "code",
   "execution_count": 4,
   "id": "f8e12962",
   "metadata": {},
   "outputs": [
    {
     "data": {
      "text/html": [
       "<div>\n",
       "<style scoped>\n",
       "    .dataframe tbody tr th:only-of-type {\n",
       "        vertical-align: middle;\n",
       "    }\n",
       "\n",
       "    .dataframe tbody tr th {\n",
       "        vertical-align: top;\n",
       "    }\n",
       "\n",
       "    .dataframe thead th {\n",
       "        text-align: right;\n",
       "    }\n",
       "</style>\n",
       "<table border=\"1\" class=\"dataframe\">\n",
       "  <thead>\n",
       "    <tr style=\"text-align: right;\">\n",
       "      <th></th>\n",
       "      <th>order_id</th>\n",
       "      <th>quantity</th>\n",
       "      <th>item_name</th>\n",
       "      <th>choice_description</th>\n",
       "      <th>item_price</th>\n",
       "    </tr>\n",
       "  </thead>\n",
       "  <tbody>\n",
       "    <tr>\n",
       "      <th>0</th>\n",
       "      <td>1</td>\n",
       "      <td>1</td>\n",
       "      <td>Chips and Fresh Tomato Salsa</td>\n",
       "      <td>NaN</td>\n",
       "      <td>$2.39</td>\n",
       "    </tr>\n",
       "    <tr>\n",
       "      <th>1</th>\n",
       "      <td>1</td>\n",
       "      <td>1</td>\n",
       "      <td>Izze</td>\n",
       "      <td>[Clementine]</td>\n",
       "      <td>$3.39</td>\n",
       "    </tr>\n",
       "    <tr>\n",
       "      <th>2</th>\n",
       "      <td>1</td>\n",
       "      <td>1</td>\n",
       "      <td>Nantucket Nectar</td>\n",
       "      <td>[Apple]</td>\n",
       "      <td>$3.39</td>\n",
       "    </tr>\n",
       "    <tr>\n",
       "      <th>3</th>\n",
       "      <td>1</td>\n",
       "      <td>1</td>\n",
       "      <td>Chips and Tomatillo-Green Chili Salsa</td>\n",
       "      <td>NaN</td>\n",
       "      <td>$2.39</td>\n",
       "    </tr>\n",
       "    <tr>\n",
       "      <th>4</th>\n",
       "      <td>2</td>\n",
       "      <td>2</td>\n",
       "      <td>Chicken Bowl</td>\n",
       "      <td>[Tomatillo-Red Chili Salsa (Hot), [Black Beans...</td>\n",
       "      <td>$16.98</td>\n",
       "    </tr>\n",
       "    <tr>\n",
       "      <th>...</th>\n",
       "      <td>...</td>\n",
       "      <td>...</td>\n",
       "      <td>...</td>\n",
       "      <td>...</td>\n",
       "      <td>...</td>\n",
       "    </tr>\n",
       "    <tr>\n",
       "      <th>4617</th>\n",
       "      <td>1833</td>\n",
       "      <td>1</td>\n",
       "      <td>Steak Burrito</td>\n",
       "      <td>[Fresh Tomato Salsa, [Rice, Black Beans, Sour ...</td>\n",
       "      <td>$11.75</td>\n",
       "    </tr>\n",
       "    <tr>\n",
       "      <th>4618</th>\n",
       "      <td>1833</td>\n",
       "      <td>1</td>\n",
       "      <td>Steak Burrito</td>\n",
       "      <td>[Fresh Tomato Salsa, [Rice, Sour Cream, Cheese...</td>\n",
       "      <td>$11.75</td>\n",
       "    </tr>\n",
       "    <tr>\n",
       "      <th>4619</th>\n",
       "      <td>1834</td>\n",
       "      <td>1</td>\n",
       "      <td>Chicken Salad Bowl</td>\n",
       "      <td>[Fresh Tomato Salsa, [Fajita Vegetables, Pinto...</td>\n",
       "      <td>$11.25</td>\n",
       "    </tr>\n",
       "    <tr>\n",
       "      <th>4620</th>\n",
       "      <td>1834</td>\n",
       "      <td>1</td>\n",
       "      <td>Chicken Salad Bowl</td>\n",
       "      <td>[Fresh Tomato Salsa, [Fajita Vegetables, Lettu...</td>\n",
       "      <td>$8.75</td>\n",
       "    </tr>\n",
       "    <tr>\n",
       "      <th>4621</th>\n",
       "      <td>1834</td>\n",
       "      <td>1</td>\n",
       "      <td>Chicken Salad Bowl</td>\n",
       "      <td>[Fresh Tomato Salsa, [Fajita Vegetables, Pinto...</td>\n",
       "      <td>$8.75</td>\n",
       "    </tr>\n",
       "  </tbody>\n",
       "</table>\n",
       "<p>4622 rows × 5 columns</p>\n",
       "</div>"
      ],
      "text/plain": [
       "      order_id  quantity                              item_name  \\\n",
       "0            1         1           Chips and Fresh Tomato Salsa   \n",
       "1            1         1                                   Izze   \n",
       "2            1         1                       Nantucket Nectar   \n",
       "3            1         1  Chips and Tomatillo-Green Chili Salsa   \n",
       "4            2         2                           Chicken Bowl   \n",
       "...        ...       ...                                    ...   \n",
       "4617      1833         1                          Steak Burrito   \n",
       "4618      1833         1                          Steak Burrito   \n",
       "4619      1834         1                     Chicken Salad Bowl   \n",
       "4620      1834         1                     Chicken Salad Bowl   \n",
       "4621      1834         1                     Chicken Salad Bowl   \n",
       "\n",
       "                                     choice_description item_price  \n",
       "0                                                   NaN     $2.39   \n",
       "1                                          [Clementine]     $3.39   \n",
       "2                                               [Apple]     $3.39   \n",
       "3                                                   NaN     $2.39   \n",
       "4     [Tomatillo-Red Chili Salsa (Hot), [Black Beans...    $16.98   \n",
       "...                                                 ...        ...  \n",
       "4617  [Fresh Tomato Salsa, [Rice, Black Beans, Sour ...    $11.75   \n",
       "4618  [Fresh Tomato Salsa, [Rice, Sour Cream, Cheese...    $11.75   \n",
       "4619  [Fresh Tomato Salsa, [Fajita Vegetables, Pinto...    $11.25   \n",
       "4620  [Fresh Tomato Salsa, [Fajita Vegetables, Lettu...     $8.75   \n",
       "4621  [Fresh Tomato Salsa, [Fajita Vegetables, Pinto...     $8.75   \n",
       "\n",
       "[4622 rows x 5 columns]"
      ]
     },
     "execution_count": 4,
     "metadata": {},
     "output_type": "execute_result"
    }
   ],
   "source": [
    "df"
   ]
  },
  {
   "cell_type": "code",
   "execution_count": 5,
   "id": "97ed2f37",
   "metadata": {},
   "outputs": [
    {
     "data": {
      "text/html": [
       "<div>\n",
       "<style scoped>\n",
       "    .dataframe tbody tr th:only-of-type {\n",
       "        vertical-align: middle;\n",
       "    }\n",
       "\n",
       "    .dataframe tbody tr th {\n",
       "        vertical-align: top;\n",
       "    }\n",
       "\n",
       "    .dataframe thead th {\n",
       "        text-align: right;\n",
       "    }\n",
       "</style>\n",
       "<table border=\"1\" class=\"dataframe\">\n",
       "  <thead>\n",
       "    <tr style=\"text-align: right;\">\n",
       "      <th></th>\n",
       "      <th>order_id</th>\n",
       "      <th>quantity</th>\n",
       "      <th>item_name</th>\n",
       "      <th>choice_description</th>\n",
       "      <th>item_price</th>\n",
       "    </tr>\n",
       "  </thead>\n",
       "  <tbody>\n",
       "    <tr>\n",
       "      <th>0</th>\n",
       "      <td>1</td>\n",
       "      <td>1</td>\n",
       "      <td>Chips and Fresh Tomato Salsa</td>\n",
       "      <td>NaN</td>\n",
       "      <td>$2.39</td>\n",
       "    </tr>\n",
       "    <tr>\n",
       "      <th>1</th>\n",
       "      <td>1</td>\n",
       "      <td>1</td>\n",
       "      <td>Izze</td>\n",
       "      <td>[Clementine]</td>\n",
       "      <td>$3.39</td>\n",
       "    </tr>\n",
       "    <tr>\n",
       "      <th>2</th>\n",
       "      <td>1</td>\n",
       "      <td>1</td>\n",
       "      <td>Nantucket Nectar</td>\n",
       "      <td>[Apple]</td>\n",
       "      <td>$3.39</td>\n",
       "    </tr>\n",
       "    <tr>\n",
       "      <th>3</th>\n",
       "      <td>1</td>\n",
       "      <td>1</td>\n",
       "      <td>Chips and Tomatillo-Green Chili Salsa</td>\n",
       "      <td>NaN</td>\n",
       "      <td>$2.39</td>\n",
       "    </tr>\n",
       "    <tr>\n",
       "      <th>4</th>\n",
       "      <td>2</td>\n",
       "      <td>2</td>\n",
       "      <td>Chicken Bowl</td>\n",
       "      <td>[Tomatillo-Red Chili Salsa (Hot), [Black Beans...</td>\n",
       "      <td>$16.98</td>\n",
       "    </tr>\n",
       "  </tbody>\n",
       "</table>\n",
       "</div>"
      ],
      "text/plain": [
       "   order_id  quantity                              item_name  \\\n",
       "0         1         1           Chips and Fresh Tomato Salsa   \n",
       "1         1         1                                   Izze   \n",
       "2         1         1                       Nantucket Nectar   \n",
       "3         1         1  Chips and Tomatillo-Green Chili Salsa   \n",
       "4         2         2                           Chicken Bowl   \n",
       "\n",
       "                                  choice_description item_price  \n",
       "0                                                NaN     $2.39   \n",
       "1                                       [Clementine]     $3.39   \n",
       "2                                            [Apple]     $3.39   \n",
       "3                                                NaN     $2.39   \n",
       "4  [Tomatillo-Red Chili Salsa (Hot), [Black Beans...    $16.98   "
      ]
     },
     "execution_count": 5,
     "metadata": {},
     "output_type": "execute_result"
    }
   ],
   "source": [
    "df.head()"
   ]
  },
  {
   "cell_type": "code",
   "execution_count": 6,
   "id": "46341a36",
   "metadata": {},
   "outputs": [
    {
     "name": "stdout",
     "output_type": "stream",
     "text": [
      "<class 'pandas.core.frame.DataFrame'>\n",
      "RangeIndex: 4622 entries, 0 to 4621\n",
      "Data columns (total 5 columns):\n",
      " #   Column              Non-Null Count  Dtype \n",
      "---  ------              --------------  ----- \n",
      " 0   order_id            4622 non-null   int64 \n",
      " 1   quantity            4622 non-null   int64 \n",
      " 2   item_name           4622 non-null   object\n",
      " 3   choice_description  3376 non-null   object\n",
      " 4   item_price          4622 non-null   object\n",
      "dtypes: int64(2), object(3)\n",
      "memory usage: 180.7+ KB\n"
     ]
    }
   ],
   "source": [
    "df.info()"
   ]
  },
  {
   "cell_type": "code",
   "execution_count": 7,
   "id": "a0b9912f",
   "metadata": {},
   "outputs": [
    {
     "data": {
      "text/html": [
       "<div>\n",
       "<style scoped>\n",
       "    .dataframe tbody tr th:only-of-type {\n",
       "        vertical-align: middle;\n",
       "    }\n",
       "\n",
       "    .dataframe tbody tr th {\n",
       "        vertical-align: top;\n",
       "    }\n",
       "\n",
       "    .dataframe thead th {\n",
       "        text-align: right;\n",
       "    }\n",
       "</style>\n",
       "<table border=\"1\" class=\"dataframe\">\n",
       "  <thead>\n",
       "    <tr style=\"text-align: right;\">\n",
       "      <th></th>\n",
       "      <th>order_id</th>\n",
       "      <th>quantity</th>\n",
       "    </tr>\n",
       "  </thead>\n",
       "  <tbody>\n",
       "    <tr>\n",
       "      <th>count</th>\n",
       "      <td>4622.000000</td>\n",
       "      <td>4622.000000</td>\n",
       "    </tr>\n",
       "    <tr>\n",
       "      <th>mean</th>\n",
       "      <td>927.254868</td>\n",
       "      <td>1.075725</td>\n",
       "    </tr>\n",
       "    <tr>\n",
       "      <th>std</th>\n",
       "      <td>528.890796</td>\n",
       "      <td>0.410186</td>\n",
       "    </tr>\n",
       "    <tr>\n",
       "      <th>min</th>\n",
       "      <td>1.000000</td>\n",
       "      <td>1.000000</td>\n",
       "    </tr>\n",
       "    <tr>\n",
       "      <th>25%</th>\n",
       "      <td>477.250000</td>\n",
       "      <td>1.000000</td>\n",
       "    </tr>\n",
       "    <tr>\n",
       "      <th>50%</th>\n",
       "      <td>926.000000</td>\n",
       "      <td>1.000000</td>\n",
       "    </tr>\n",
       "    <tr>\n",
       "      <th>75%</th>\n",
       "      <td>1393.000000</td>\n",
       "      <td>1.000000</td>\n",
       "    </tr>\n",
       "    <tr>\n",
       "      <th>max</th>\n",
       "      <td>1834.000000</td>\n",
       "      <td>15.000000</td>\n",
       "    </tr>\n",
       "  </tbody>\n",
       "</table>\n",
       "</div>"
      ],
      "text/plain": [
       "          order_id     quantity\n",
       "count  4622.000000  4622.000000\n",
       "mean    927.254868     1.075725\n",
       "std     528.890796     0.410186\n",
       "min       1.000000     1.000000\n",
       "25%     477.250000     1.000000\n",
       "50%     926.000000     1.000000\n",
       "75%    1393.000000     1.000000\n",
       "max    1834.000000    15.000000"
      ]
     },
     "execution_count": 7,
     "metadata": {},
     "output_type": "execute_result"
    }
   ],
   "source": [
    "df.describe()"
   ]
  },
  {
   "cell_type": "code",
   "execution_count": 8,
   "id": "c1d44d83",
   "metadata": {},
   "outputs": [
    {
     "data": {
      "text/plain": [
       "(4622, 5)"
      ]
     },
     "execution_count": 8,
     "metadata": {},
     "output_type": "execute_result"
    }
   ],
   "source": [
    "df.shape"
   ]
  },
  {
   "cell_type": "code",
   "execution_count": 9,
   "id": "202e9f8a",
   "metadata": {},
   "outputs": [
    {
     "data": {
      "text/plain": [
       "15"
      ]
     },
     "execution_count": 9,
     "metadata": {},
     "output_type": "execute_result"
    }
   ],
   "source": [
    "df['quantity'].max()"
   ]
  },
  {
   "cell_type": "code",
   "execution_count": 10,
   "id": "3722ae7d",
   "metadata": {},
   "outputs": [
    {
     "data": {
      "text/plain": [
       "1"
      ]
     },
     "execution_count": 10,
     "metadata": {},
     "output_type": "execute_result"
    }
   ],
   "source": [
    "df['quantity'].min()"
   ]
  },
  {
   "cell_type": "code",
   "execution_count": 11,
   "id": "373b3cf7",
   "metadata": {},
   "outputs": [
    {
     "data": {
      "text/plain": [
       "1.0757247944612722"
      ]
     },
     "execution_count": 11,
     "metadata": {},
     "output_type": "execute_result"
    }
   ],
   "source": [
    "df['quantity'].mean()"
   ]
  },
  {
   "cell_type": "code",
   "execution_count": 12,
   "id": "37693163",
   "metadata": {},
   "outputs": [
    {
     "data": {
      "text/plain": [
       "'Veggie Soft Tacos'"
      ]
     },
     "execution_count": 12,
     "metadata": {},
     "output_type": "execute_result"
    }
   ],
   "source": [
    "df['item_name'].max()"
   ]
  },
  {
   "cell_type": "code",
   "execution_count": 13,
   "id": "f2a3e0d4",
   "metadata": {},
   "outputs": [
    {
     "data": {
      "text/plain": [
       "'6 Pack Soft Drink'"
      ]
     },
     "execution_count": 13,
     "metadata": {},
     "output_type": "execute_result"
    }
   ],
   "source": [
    "df['item_name'].min()"
   ]
  },
  {
   "cell_type": "code",
   "execution_count": 14,
   "id": "ddf6e5c3",
   "metadata": {},
   "outputs": [
    {
     "data": {
      "text/plain": [
       "quantity\n",
       "1     4355\n",
       "2      224\n",
       "3       28\n",
       "4       10\n",
       "5        1\n",
       "15       1\n",
       "7        1\n",
       "8        1\n",
       "10       1\n",
       "Name: count, dtype: int64"
      ]
     },
     "execution_count": 14,
     "metadata": {},
     "output_type": "execute_result"
    }
   ],
   "source": [
    "df['quantity'].value_counts()"
   ]
  },
  {
   "cell_type": "code",
   "execution_count": 15,
   "id": "c04b3163",
   "metadata": {},
   "outputs": [
    {
     "data": {
      "text/plain": [
       "0        $2.39 \n",
       "1        $3.39 \n",
       "2        $3.39 \n",
       "3        $2.39 \n",
       "4       $16.98 \n",
       "         ...   \n",
       "4617    $11.75 \n",
       "4618    $11.75 \n",
       "4619    $11.25 \n",
       "4620     $8.75 \n",
       "4621     $8.75 \n",
       "Name: item_price, Length: 4622, dtype: object"
      ]
     },
     "execution_count": 15,
     "metadata": {},
     "output_type": "execute_result"
    }
   ],
   "source": [
    "df['item_price']"
   ]
  },
  {
   "cell_type": "code",
   "execution_count": 16,
   "id": "18225b2a",
   "metadata": {},
   "outputs": [
    {
     "data": {
      "text/plain": [
       "order_id               int64\n",
       "quantity               int64\n",
       "item_name             object\n",
       "choice_description    object\n",
       "item_price            object\n",
       "dtype: object"
      ]
     },
     "execution_count": 16,
     "metadata": {},
     "output_type": "execute_result"
    }
   ],
   "source": [
    "df.dtypes"
   ]
  },
  {
   "cell_type": "code",
   "execution_count": 17,
   "id": "f899451e",
   "metadata": {},
   "outputs": [],
   "source": [
    "df['item_price']=df['item_price'].str.replace('$','')#to replace any char in col"
   ]
  },
  {
   "cell_type": "code",
   "execution_count": 18,
   "id": "4b042742",
   "metadata": {},
   "outputs": [],
   "source": [
    "df['item_price']=df['item_price'].astype(float)"
   ]
  },
  {
   "cell_type": "code",
   "execution_count": 19,
   "id": "047a8b83",
   "metadata": {},
   "outputs": [
    {
     "data": {
      "text/html": [
       "<div>\n",
       "<style scoped>\n",
       "    .dataframe tbody tr th:only-of-type {\n",
       "        vertical-align: middle;\n",
       "    }\n",
       "\n",
       "    .dataframe tbody tr th {\n",
       "        vertical-align: top;\n",
       "    }\n",
       "\n",
       "    .dataframe thead th {\n",
       "        text-align: right;\n",
       "    }\n",
       "</style>\n",
       "<table border=\"1\" class=\"dataframe\">\n",
       "  <thead>\n",
       "    <tr style=\"text-align: right;\">\n",
       "      <th></th>\n",
       "      <th>order_id</th>\n",
       "      <th>quantity</th>\n",
       "      <th>item_name</th>\n",
       "      <th>choice_description</th>\n",
       "      <th>item_price</th>\n",
       "    </tr>\n",
       "  </thead>\n",
       "  <tbody>\n",
       "    <tr>\n",
       "      <th>0</th>\n",
       "      <td>1</td>\n",
       "      <td>1</td>\n",
       "      <td>Chips and Fresh Tomato Salsa</td>\n",
       "      <td>NaN</td>\n",
       "      <td>2.39</td>\n",
       "    </tr>\n",
       "    <tr>\n",
       "      <th>1</th>\n",
       "      <td>1</td>\n",
       "      <td>1</td>\n",
       "      <td>Izze</td>\n",
       "      <td>[Clementine]</td>\n",
       "      <td>3.39</td>\n",
       "    </tr>\n",
       "    <tr>\n",
       "      <th>2</th>\n",
       "      <td>1</td>\n",
       "      <td>1</td>\n",
       "      <td>Nantucket Nectar</td>\n",
       "      <td>[Apple]</td>\n",
       "      <td>3.39</td>\n",
       "    </tr>\n",
       "    <tr>\n",
       "      <th>3</th>\n",
       "      <td>1</td>\n",
       "      <td>1</td>\n",
       "      <td>Chips and Tomatillo-Green Chili Salsa</td>\n",
       "      <td>NaN</td>\n",
       "      <td>2.39</td>\n",
       "    </tr>\n",
       "    <tr>\n",
       "      <th>4</th>\n",
       "      <td>2</td>\n",
       "      <td>2</td>\n",
       "      <td>Chicken Bowl</td>\n",
       "      <td>[Tomatillo-Red Chili Salsa (Hot), [Black Beans...</td>\n",
       "      <td>16.98</td>\n",
       "    </tr>\n",
       "    <tr>\n",
       "      <th>...</th>\n",
       "      <td>...</td>\n",
       "      <td>...</td>\n",
       "      <td>...</td>\n",
       "      <td>...</td>\n",
       "      <td>...</td>\n",
       "    </tr>\n",
       "    <tr>\n",
       "      <th>4617</th>\n",
       "      <td>1833</td>\n",
       "      <td>1</td>\n",
       "      <td>Steak Burrito</td>\n",
       "      <td>[Fresh Tomato Salsa, [Rice, Black Beans, Sour ...</td>\n",
       "      <td>11.75</td>\n",
       "    </tr>\n",
       "    <tr>\n",
       "      <th>4618</th>\n",
       "      <td>1833</td>\n",
       "      <td>1</td>\n",
       "      <td>Steak Burrito</td>\n",
       "      <td>[Fresh Tomato Salsa, [Rice, Sour Cream, Cheese...</td>\n",
       "      <td>11.75</td>\n",
       "    </tr>\n",
       "    <tr>\n",
       "      <th>4619</th>\n",
       "      <td>1834</td>\n",
       "      <td>1</td>\n",
       "      <td>Chicken Salad Bowl</td>\n",
       "      <td>[Fresh Tomato Salsa, [Fajita Vegetables, Pinto...</td>\n",
       "      <td>11.25</td>\n",
       "    </tr>\n",
       "    <tr>\n",
       "      <th>4620</th>\n",
       "      <td>1834</td>\n",
       "      <td>1</td>\n",
       "      <td>Chicken Salad Bowl</td>\n",
       "      <td>[Fresh Tomato Salsa, [Fajita Vegetables, Lettu...</td>\n",
       "      <td>8.75</td>\n",
       "    </tr>\n",
       "    <tr>\n",
       "      <th>4621</th>\n",
       "      <td>1834</td>\n",
       "      <td>1</td>\n",
       "      <td>Chicken Salad Bowl</td>\n",
       "      <td>[Fresh Tomato Salsa, [Fajita Vegetables, Pinto...</td>\n",
       "      <td>8.75</td>\n",
       "    </tr>\n",
       "  </tbody>\n",
       "</table>\n",
       "<p>4622 rows × 5 columns</p>\n",
       "</div>"
      ],
      "text/plain": [
       "      order_id  quantity                              item_name  \\\n",
       "0            1         1           Chips and Fresh Tomato Salsa   \n",
       "1            1         1                                   Izze   \n",
       "2            1         1                       Nantucket Nectar   \n",
       "3            1         1  Chips and Tomatillo-Green Chili Salsa   \n",
       "4            2         2                           Chicken Bowl   \n",
       "...        ...       ...                                    ...   \n",
       "4617      1833         1                          Steak Burrito   \n",
       "4618      1833         1                          Steak Burrito   \n",
       "4619      1834         1                     Chicken Salad Bowl   \n",
       "4620      1834         1                     Chicken Salad Bowl   \n",
       "4621      1834         1                     Chicken Salad Bowl   \n",
       "\n",
       "                                     choice_description  item_price  \n",
       "0                                                   NaN        2.39  \n",
       "1                                          [Clementine]        3.39  \n",
       "2                                               [Apple]        3.39  \n",
       "3                                                   NaN        2.39  \n",
       "4     [Tomatillo-Red Chili Salsa (Hot), [Black Beans...       16.98  \n",
       "...                                                 ...         ...  \n",
       "4617  [Fresh Tomato Salsa, [Rice, Black Beans, Sour ...       11.75  \n",
       "4618  [Fresh Tomato Salsa, [Rice, Sour Cream, Cheese...       11.75  \n",
       "4619  [Fresh Tomato Salsa, [Fajita Vegetables, Pinto...       11.25  \n",
       "4620  [Fresh Tomato Salsa, [Fajita Vegetables, Lettu...        8.75  \n",
       "4621  [Fresh Tomato Salsa, [Fajita Vegetables, Pinto...        8.75  \n",
       "\n",
       "[4622 rows x 5 columns]"
      ]
     },
     "execution_count": 19,
     "metadata": {},
     "output_type": "execute_result"
    }
   ],
   "source": [
    "df"
   ]
  },
  {
   "cell_type": "code",
   "execution_count": 20,
   "id": "67b62091",
   "metadata": {},
   "outputs": [
    {
     "data": {
      "text/plain": [
       "item_price\n",
       "1.09      [1.09]\n",
       "1.25      [1.25]\n",
       "1.50       [1.5]\n",
       "1.69      [1.69]\n",
       "1.99      [1.99]\n",
       "          ...   \n",
       "32.94    [32.94]\n",
       "33.75    [33.75]\n",
       "35.00     [35.0]\n",
       "35.25    [35.25]\n",
       "44.25    [44.25]\n",
       "Name: item_price, Length: 78, dtype: object"
      ]
     },
     "execution_count": 20,
     "metadata": {},
     "output_type": "execute_result"
    }
   ],
   "source": [
    "df.groupby('item_price')['item_price'].unique()"
   ]
  },
  {
   "cell_type": "code",
   "execution_count": 21,
   "id": "40121c4b",
   "metadata": {},
   "outputs": [],
   "source": [
    "#Average price value of all the items in present"
   ]
  },
  {
   "cell_type": "code",
   "execution_count": 22,
   "id": "8e5dc532",
   "metadata": {},
   "outputs": [
    {
     "data": {
      "text/plain": [
       "item_name\n",
       "6 Pack Soft Drink                         6.610185\n",
       "Barbacoa Bowl                            10.187273\n",
       "Barbacoa Burrito                          9.832418\n",
       "Barbacoa Crispy Tacos                    10.928182\n",
       "Barbacoa Salad Bowl                      10.640000\n",
       "Barbacoa Soft Tacos                      10.018400\n",
       "Bottled Water                             1.867654\n",
       "Bowl                                     14.800000\n",
       "Burrito                                   7.400000\n",
       "Canned Soda                               1.320577\n",
       "Canned Soft Drink                         1.457641\n",
       "Carnitas Bowl                            10.833971\n",
       "Carnitas Burrito                         10.132712\n",
       "Carnitas Crispy Tacos                    11.137143\n",
       "Carnitas Salad                            8.990000\n",
       "Carnitas Salad Bowl                      11.056667\n",
       "Carnitas Soft Tacos                       9.398500\n",
       "Chicken Bowl                             10.113953\n",
       "Chicken Burrito                          10.082857\n",
       "Chicken Crispy Tacos                     10.045319\n",
       "Chicken Salad                             9.010000\n",
       "Chicken Salad Bowl                       11.170455\n",
       "Chicken Soft Tacos                        9.635565\n",
       "Chips                                     2.342844\n",
       "Chips and Fresh Tomato Salsa              3.285091\n",
       "Chips and Guacamole                       4.595073\n",
       "Chips and Mild Fresh Tomato Salsa         3.000000\n",
       "Chips and Roasted Chili Corn Salsa        3.084091\n",
       "Chips and Roasted Chili-Corn Salsa        2.390000\n",
       "Chips and Tomatillo Green Chili Salsa     3.087209\n",
       "Chips and Tomatillo Red Chili Salsa       3.072917\n",
       "Chips and Tomatillo-Green Chili Salsa     2.544194\n",
       "Chips and Tomatillo-Red Chili Salsa       2.987500\n",
       "Crispy Tacos                              7.400000\n",
       "Izze                                      3.390000\n",
       "Nantucket Nectar                          3.641111\n",
       "Salad                                     7.400000\n",
       "Side of Chips                             1.840594\n",
       "Steak Bowl                               10.711801\n",
       "Steak Burrito                            10.465842\n",
       "Steak Crispy Tacos                       10.209714\n",
       "Steak Salad                               8.915000\n",
       "Steak Salad Bowl                         11.847931\n",
       "Steak Soft Tacos                          9.746364\n",
       "Veggie Bowl                              10.211647\n",
       "Veggie Burrito                            9.839684\n",
       "Veggie Crispy Tacos                       8.490000\n",
       "Veggie Salad                              8.490000\n",
       "Veggie Salad Bowl                        10.138889\n",
       "Veggie Soft Tacos                        10.565714\n",
       "Name: item_price, dtype: float64"
      ]
     },
     "execution_count": 22,
     "metadata": {},
     "output_type": "execute_result"
    }
   ],
   "source": [
    "df.groupby('item_name')['item_price'].mean()"
   ]
  },
  {
   "cell_type": "code",
   "execution_count": 23,
   "id": "84d61a00",
   "metadata": {},
   "outputs": [
    {
     "data": {
      "text/plain": [
       "item_name          item_price\n",
       "6 Pack Soft Drink  6.49          53\n",
       "                   12.98          1\n",
       "Barbacoa Bowl      9.25          28\n",
       "                   11.75         20\n",
       "                   8.99           8\n",
       "                                 ..\n",
       "Veggie Salad Bowl  8.75           8\n",
       "Veggie Soft Tacos  11.25          2\n",
       "                   8.49           2\n",
       "                   8.75           2\n",
       "                   16.98          1\n",
       "Name: count, Length: 209, dtype: int64"
      ]
     },
     "execution_count": 23,
     "metadata": {},
     "output_type": "execute_result"
    }
   ],
   "source": [
    "df.groupby('item_name')['item_price'].value_counts()"
   ]
  },
  {
   "cell_type": "code",
   "execution_count": 24,
   "id": "ac9b37ef",
   "metadata": {},
   "outputs": [
    {
     "data": {
      "text/plain": [
       "item_name\n",
       "6 Pack Soft Drink                         356.95\n",
       "Barbacoa Bowl                             672.36\n",
       "Barbacoa Burrito                          894.75\n",
       "Barbacoa Crispy Tacos                     120.21\n",
       "Barbacoa Salad Bowl                       106.40\n",
       "Barbacoa Soft Tacos                       250.46\n",
       "Bottled Water                             302.56\n",
       "Bowl                                       29.60\n",
       "Burrito                                    44.40\n",
       "Canned Soda                               137.34\n",
       "Canned Soft Drink                         438.75\n",
       "Carnitas Bowl                             736.71\n",
       "Carnitas Burrito                          597.83\n",
       "Carnitas Crispy Tacos                      77.96\n",
       "Carnitas Salad                              8.99\n",
       "Carnitas Salad Bowl                        66.34\n",
       "Carnitas Soft Tacos                       375.94\n",
       "Chicken Bowl                             7342.73\n",
       "Chicken Burrito                          5575.82\n",
       "Chicken Crispy Tacos                      472.13\n",
       "Chicken Salad                              81.09\n",
       "Chicken Salad Bowl                       1228.75\n",
       "Chicken Soft Tacos                       1108.09\n",
       "Chips                                     494.34\n",
       "Chips and Fresh Tomato Salsa              361.36\n",
       "Chips and Guacamole                      2201.04\n",
       "Chips and Mild Fresh Tomato Salsa           3.00\n",
       "Chips and Roasted Chili Corn Salsa         67.85\n",
       "Chips and Roasted Chili-Corn Salsa         43.02\n",
       "Chips and Tomatillo Green Chili Salsa     132.75\n",
       "Chips and Tomatillo Red Chili Salsa       147.50\n",
       "Chips and Tomatillo-Green Chili Salsa      78.87\n",
       "Chips and Tomatillo-Red Chili Salsa        59.75\n",
       "Crispy Tacos                               14.80\n",
       "Izze                                       67.80\n",
       "Nantucket Nectar                           98.31\n",
       "Salad                                      14.80\n",
       "Side of Chips                             185.90\n",
       "Steak Bowl                               2260.19\n",
       "Steak Burrito                            3851.43\n",
       "Steak Crispy Tacos                        357.34\n",
       "Steak Salad                                35.66\n",
       "Steak Salad Bowl                          343.59\n",
       "Steak Soft Tacos                          536.05\n",
       "Veggie Bowl                               867.99\n",
       "Veggie Burrito                            934.77\n",
       "Veggie Crispy Tacos                         8.49\n",
       "Veggie Salad                               50.94\n",
       "Veggie Salad Bowl                         182.50\n",
       "Veggie Soft Tacos                          73.96\n",
       "Name: item_price, dtype: float64"
      ]
     },
     "execution_count": 24,
     "metadata": {},
     "output_type": "execute_result"
    }
   ],
   "source": [
    "df.groupby('item_name')['item_price'].sum()"
   ]
  },
  {
   "cell_type": "code",
   "execution_count": 25,
   "id": "593c7c4e",
   "metadata": {},
   "outputs": [
    {
     "data": {
      "text/plain": [
       "7342.7300000000005"
      ]
     },
     "execution_count": 25,
     "metadata": {},
     "output_type": "execute_result"
    }
   ],
   "source": [
    "df.groupby('item_name')['item_price'].sum().max()"
   ]
  },
  {
   "cell_type": "code",
   "execution_count": 26,
   "id": "6dba614c",
   "metadata": {},
   "outputs": [],
   "source": [
    "#idxmax is used for find names of any items rather max or min or anyother"
   ]
  },
  {
   "cell_type": "code",
   "execution_count": 27,
   "id": "af003663",
   "metadata": {},
   "outputs": [
    {
     "data": {
      "text/plain": [
       "<bound method Series.idxmax of item_name\n",
       "6 Pack Soft Drink                         356.95\n",
       "Barbacoa Bowl                             672.36\n",
       "Barbacoa Burrito                          894.75\n",
       "Barbacoa Crispy Tacos                     120.21\n",
       "Barbacoa Salad Bowl                       106.40\n",
       "Barbacoa Soft Tacos                       250.46\n",
       "Bottled Water                             302.56\n",
       "Bowl                                       29.60\n",
       "Burrito                                    44.40\n",
       "Canned Soda                               137.34\n",
       "Canned Soft Drink                         438.75\n",
       "Carnitas Bowl                             736.71\n",
       "Carnitas Burrito                          597.83\n",
       "Carnitas Crispy Tacos                      77.96\n",
       "Carnitas Salad                              8.99\n",
       "Carnitas Salad Bowl                        66.34\n",
       "Carnitas Soft Tacos                       375.94\n",
       "Chicken Bowl                             7342.73\n",
       "Chicken Burrito                          5575.82\n",
       "Chicken Crispy Tacos                      472.13\n",
       "Chicken Salad                              81.09\n",
       "Chicken Salad Bowl                       1228.75\n",
       "Chicken Soft Tacos                       1108.09\n",
       "Chips                                     494.34\n",
       "Chips and Fresh Tomato Salsa              361.36\n",
       "Chips and Guacamole                      2201.04\n",
       "Chips and Mild Fresh Tomato Salsa           3.00\n",
       "Chips and Roasted Chili Corn Salsa         67.85\n",
       "Chips and Roasted Chili-Corn Salsa         43.02\n",
       "Chips and Tomatillo Green Chili Salsa     132.75\n",
       "Chips and Tomatillo Red Chili Salsa       147.50\n",
       "Chips and Tomatillo-Green Chili Salsa      78.87\n",
       "Chips and Tomatillo-Red Chili Salsa        59.75\n",
       "Crispy Tacos                               14.80\n",
       "Izze                                       67.80\n",
       "Nantucket Nectar                           98.31\n",
       "Salad                                      14.80\n",
       "Side of Chips                             185.90\n",
       "Steak Bowl                               2260.19\n",
       "Steak Burrito                            3851.43\n",
       "Steak Crispy Tacos                        357.34\n",
       "Steak Salad                                35.66\n",
       "Steak Salad Bowl                          343.59\n",
       "Steak Soft Tacos                          536.05\n",
       "Veggie Bowl                               867.99\n",
       "Veggie Burrito                            934.77\n",
       "Veggie Crispy Tacos                         8.49\n",
       "Veggie Salad                               50.94\n",
       "Veggie Salad Bowl                         182.50\n",
       "Veggie Soft Tacos                          73.96\n",
       "Name: item_price, dtype: float64>"
      ]
     },
     "execution_count": 27,
     "metadata": {},
     "output_type": "execute_result"
    }
   ],
   "source": [
    "df.groupby('item_name')['item_price'].sum().idxmax"
   ]
  },
  {
   "cell_type": "code",
   "execution_count": 28,
   "id": "3b7c5142",
   "metadata": {},
   "outputs": [],
   "source": [
    "#verify the presence of any character or word in a data column"
   ]
  },
  {
   "cell_type": "code",
   "execution_count": 29,
   "id": "9b8b9724",
   "metadata": {},
   "outputs": [
    {
     "data": {
      "text/plain": [
       "212"
      ]
     },
     "execution_count": 29,
     "metadata": {},
     "output_type": "execute_result"
    }
   ],
   "source": [
    "df['item_name'].str.contains('Veggie').sum()"
   ]
  },
  {
   "cell_type": "code",
   "execution_count": 30,
   "id": "83bd16c4",
   "metadata": {},
   "outputs": [
    {
     "data": {
      "text/plain": [
       "0"
      ]
     },
     "execution_count": 30,
     "metadata": {},
     "output_type": "execute_result"
    }
   ],
   "source": [
    "df['item_name'].str.contains('softDrink').sum()"
   ]
  },
  {
   "cell_type": "code",
   "execution_count": 31,
   "id": "f78d8d32",
   "metadata": {},
   "outputs": [
    {
     "data": {
      "text/plain": [
       "1560"
      ]
     },
     "execution_count": 31,
     "metadata": {},
     "output_type": "execute_result"
    }
   ],
   "source": [
    "df['item_name'].str.contains('Chicken').sum()"
   ]
  },
  {
   "cell_type": "code",
   "execution_count": 32,
   "id": "70ecf96a",
   "metadata": {},
   "outputs": [
    {
     "data": {
      "text/plain": [
       "1084"
      ]
     },
     "execution_count": 32,
     "metadata": {},
     "output_type": "execute_result"
    }
   ],
   "source": [
    "df['item_name'].str.contains('Chips').sum()"
   ]
  },
  {
   "cell_type": "code",
   "execution_count": 33,
   "id": "74fca4fc",
   "metadata": {},
   "outputs": [
    {
     "data": {
      "text/plain": [
       "162"
      ]
     },
     "execution_count": 33,
     "metadata": {},
     "output_type": "execute_result"
    }
   ],
   "source": [
    "df['item_name'].str.contains('Bottled Water').sum()"
   ]
  },
  {
   "cell_type": "code",
   "execution_count": 34,
   "id": "0df3ff3c",
   "metadata": {},
   "outputs": [
    {
     "data": {
      "text/plain": [
       "181"
      ]
     },
     "execution_count": 34,
     "metadata": {},
     "output_type": "execute_result"
    }
   ],
   "source": [
    "df['item_name'].str.contains('Carnitas').sum()"
   ]
  },
  {
   "cell_type": "code",
   "execution_count": 35,
   "id": "19465691",
   "metadata": {},
   "outputs": [
    {
     "data": {
      "text/plain": [
       "order_id                                                         166128\n",
       "quantity                                                            186\n",
       "item_name             Carnitas BurritoCarnitas BowlCarnitas BurritoC...\n",
       "choice_description    [[Tomatillo-Green Chili Salsa (Medium), Roaste...\n",
       "item_price                                                      1863.77\n",
       "dtype: object"
      ]
     },
     "execution_count": 35,
     "metadata": {},
     "output_type": "execute_result"
    }
   ],
   "source": [
    "df[df['item_name'].str.contains('Carnitas')].sum()"
   ]
  },
  {
   "cell_type": "code",
   "execution_count": 36,
   "id": "94d1fcc2",
   "metadata": {},
   "outputs": [
    {
     "data": {
      "text/plain": [
       "order_id                                                        1484575\n",
       "quantity                                                           1654\n",
       "item_name             Chicken BowlChicken BowlChicken Crispy TacosCh...\n",
       "choice_description    [Tomatillo-Red Chili Salsa (Hot), [Black Beans...\n",
       "item_price                                                     15808.61\n",
       "dtype: object"
      ]
     },
     "execution_count": 36,
     "metadata": {},
     "output_type": "execute_result"
    }
   ],
   "source": [
    "df[df['item_name'].str.contains('Chicken')].sum()"
   ]
  },
  {
   "cell_type": "code",
   "execution_count": 37,
   "id": "fa0d1596",
   "metadata": {},
   "outputs": [
    {
     "data": {
      "text/plain": [
       "59"
      ]
     },
     "execution_count": 37,
     "metadata": {},
     "output_type": "execute_result"
    }
   ],
   "source": [
    "df['item_name'].str.contains('Carnitas Burrito').sum()"
   ]
  },
  {
   "cell_type": "code",
   "execution_count": 38,
   "id": "3435b120",
   "metadata": {},
   "outputs": [],
   "source": [
    "#How many times a particular item is ordered"
   ]
  },
  {
   "cell_type": "code",
   "execution_count": 39,
   "id": "74151465",
   "metadata": {},
   "outputs": [
    {
     "data": {
      "text/plain": [
       "item_name\n",
       "6 Pack Soft Drink                         55\n",
       "Barbacoa Bowl                             66\n",
       "Barbacoa Burrito                          91\n",
       "Barbacoa Crispy Tacos                     12\n",
       "Barbacoa Salad Bowl                       10\n",
       "Barbacoa Soft Tacos                       25\n",
       "Bottled Water                            211\n",
       "Bowl                                       4\n",
       "Burrito                                    6\n",
       "Canned Soda                              126\n",
       "Canned Soft Drink                        351\n",
       "Carnitas Bowl                             71\n",
       "Carnitas Burrito                          60\n",
       "Carnitas Crispy Tacos                      8\n",
       "Carnitas Salad                             1\n",
       "Carnitas Salad Bowl                        6\n",
       "Carnitas Soft Tacos                       40\n",
       "Chicken Bowl                             761\n",
       "Chicken Burrito                          591\n",
       "Chicken Crispy Tacos                      50\n",
       "Chicken Salad                              9\n",
       "Chicken Salad Bowl                       123\n",
       "Chicken Soft Tacos                       120\n",
       "Chips                                    230\n",
       "Chips and Fresh Tomato Salsa             130\n",
       "Chips and Guacamole                      506\n",
       "Chips and Mild Fresh Tomato Salsa          1\n",
       "Chips and Roasted Chili Corn Salsa        23\n",
       "Chips and Roasted Chili-Corn Salsa        18\n",
       "Chips and Tomatillo Green Chili Salsa     45\n",
       "Chips and Tomatillo Red Chili Salsa       50\n",
       "Chips and Tomatillo-Green Chili Salsa     33\n",
       "Chips and Tomatillo-Red Chili Salsa       25\n",
       "Crispy Tacos                               2\n",
       "Izze                                      20\n",
       "Nantucket Nectar                          29\n",
       "Salad                                      2\n",
       "Side of Chips                            110\n",
       "Steak Bowl                               221\n",
       "Steak Burrito                            386\n",
       "Steak Crispy Tacos                        36\n",
       "Steak Salad                                4\n",
       "Steak Salad Bowl                          31\n",
       "Steak Soft Tacos                          56\n",
       "Veggie Bowl                               87\n",
       "Veggie Burrito                            97\n",
       "Veggie Crispy Tacos                        1\n",
       "Veggie Salad                               6\n",
       "Veggie Salad Bowl                         18\n",
       "Veggie Soft Tacos                          8\n",
       "Name: quantity, dtype: int64"
      ]
     },
     "execution_count": 39,
     "metadata": {},
     "output_type": "execute_result"
    }
   ],
   "source": [
    "df.groupby('item_name')['quantity'].sum()"
   ]
  },
  {
   "cell_type": "code",
   "execution_count": 40,
   "id": "48a953ad",
   "metadata": {},
   "outputs": [
    {
     "data": {
      "text/plain": [
       "6"
      ]
     },
     "execution_count": 40,
     "metadata": {},
     "output_type": "execute_result"
    }
   ],
   "source": [
    "df.groupby('item_name')['quantity'].sum().value_counts().idxmax()"
   ]
  },
  {
   "cell_type": "code",
   "execution_count": 41,
   "id": "45b9e7d4",
   "metadata": {},
   "outputs": [],
   "source": [
    "#Average item_price of each item ordered"
   ]
  },
  {
   "cell_type": "code",
   "execution_count": 42,
   "id": "224384ae",
   "metadata": {},
   "outputs": [
    {
     "data": {
      "text/plain": [
       "item_name\n",
       "6 Pack Soft Drink                         6.490000\n",
       "Barbacoa Bowl                            10.187273\n",
       "Barbacoa Burrito                          9.832418\n",
       "Barbacoa Crispy Tacos                    10.017500\n",
       "Barbacoa Salad Bowl                      10.640000\n",
       "Barbacoa Soft Tacos                      10.018400\n",
       "Bottled Water                             1.433934\n",
       "Bowl                                      7.400000\n",
       "Burrito                                   7.400000\n",
       "Canned Soda                               1.090000\n",
       "Canned Soft Drink                         1.250000\n",
       "Carnitas Bowl                            10.376197\n",
       "Carnitas Burrito                          9.963833\n",
       "Carnitas Crispy Tacos                     9.745000\n",
       "Carnitas Salad                            8.990000\n",
       "Carnitas Salad Bowl                      11.056667\n",
       "Carnitas Soft Tacos                       9.398500\n",
       "Chicken Bowl                              9.648791\n",
       "Chicken Burrito                           9.434552\n",
       "Chicken Crispy Tacos                      9.442600\n",
       "Chicken Salad                             9.010000\n",
       "Chicken Salad Bowl                        9.989837\n",
       "Chicken Soft Tacos                        9.234083\n",
       "Chips                                     2.149304\n",
       "Chips and Fresh Tomato Salsa              2.779692\n",
       "Chips and Guacamole                       4.349881\n",
       "Chips and Mild Fresh Tomato Salsa         3.000000\n",
       "Chips and Roasted Chili Corn Salsa        2.950000\n",
       "Chips and Roasted Chili-Corn Salsa        2.390000\n",
       "Chips and Tomatillo Green Chili Salsa     2.950000\n",
       "Chips and Tomatillo Red Chili Salsa       2.950000\n",
       "Chips and Tomatillo-Green Chili Salsa     2.390000\n",
       "Chips and Tomatillo-Red Chili Salsa       2.390000\n",
       "Crispy Tacos                              7.400000\n",
       "Izze                                      3.390000\n",
       "Nantucket Nectar                          3.390000\n",
       "Salad                                     7.400000\n",
       "Side of Chips                             1.690000\n",
       "Steak Bowl                               10.227104\n",
       "Steak Burrito                             9.977798\n",
       "Steak Crispy Tacos                        9.926111\n",
       "Steak Salad                               8.915000\n",
       "Steak Salad Bowl                         11.083548\n",
       "Steak Soft Tacos                          9.572321\n",
       "Veggie Bowl                               9.976897\n",
       "Veggie Burrito                            9.636804\n",
       "Veggie Crispy Tacos                       8.490000\n",
       "Veggie Salad                              8.490000\n",
       "Veggie Salad Bowl                        10.138889\n",
       "Veggie Soft Tacos                         9.245000\n",
       "dtype: float64"
      ]
     },
     "execution_count": 42,
     "metadata": {},
     "output_type": "execute_result"
    }
   ],
   "source": [
    "df.groupby('item_name')['item_price'].sum()/df.groupby('item_name')['quantity'].sum()"
   ]
  },
  {
   "cell_type": "code",
   "execution_count": 43,
   "id": "681066e0",
   "metadata": {},
   "outputs": [],
   "source": [
    "#total no of ordered of each item and their total price"
   ]
  },
  {
   "cell_type": "code",
   "execution_count": 48,
   "id": "173fb046",
   "metadata": {},
   "outputs": [
    {
     "data": {
      "text/plain": [
       "<Axes: xlabel='item_name'>"
      ]
     },
     "execution_count": 48,
     "metadata": {},
     "output_type": "execute_result"
    },
    {
     "data": {
      "image/png": "[encoded data removed]",
      "text/plain": [
       "<Figure size 1600x800 with 1 Axes>"
      ]
     },
     "metadata": {},
     "output_type": "display_data"
    }
   ],
   "source": [
    "df.groupby('item_name')[['quantity','item_price']].sum().plot.bar(figsize=(16,8))"
   ]
  },
  {
   "cell_type": "code",
   "execution_count": 45,
   "id": "a5d3e770",
   "metadata": {},
   "outputs": [],
   "source": [
    "#how many total unique item got ordered\n",
    "#what total quantity and what total price"
   ]
  },
  {
   "cell_type": "code",
   "execution_count": 46,
   "id": "a9c04b1c",
   "metadata": {},
   "outputs": [
    {
     "data": {
      "text/html": [
       "<div>\n",
       "<style scoped>\n",
       "    .dataframe tbody tr th:only-of-type {\n",
       "        vertical-align: middle;\n",
       "    }\n",
       "\n",
       "    .dataframe tbody tr th {\n",
       "        vertical-align: top;\n",
       "    }\n",
       "\n",
       "    .dataframe thead th {\n",
       "        text-align: right;\n",
       "    }\n",
       "</style>\n",
       "<table border=\"1\" class=\"dataframe\">\n",
       "  <thead>\n",
       "    <tr style=\"text-align: right;\">\n",
       "      <th></th>\n",
       "      <th></th>\n",
       "      <th>quantity</th>\n",
       "      <th>item_price</th>\n",
       "    </tr>\n",
       "    <tr>\n",
       "      <th>order_id</th>\n",
       "      <th>item_name</th>\n",
       "      <th></th>\n",
       "      <th></th>\n",
       "    </tr>\n",
       "  </thead>\n",
       "  <tbody>\n",
       "    <tr>\n",
       "      <th rowspan=\"4\" valign=\"top\">1</th>\n",
       "      <th>Chips and Fresh Tomato Salsa</th>\n",
       "      <td>1</td>\n",
       "      <td>2.39</td>\n",
       "    </tr>\n",
       "    <tr>\n",
       "      <th>Chips and Tomatillo-Green Chili Salsa</th>\n",
       "      <td>1</td>\n",
       "      <td>2.39</td>\n",
       "    </tr>\n",
       "    <tr>\n",
       "      <th>Izze</th>\n",
       "      <td>1</td>\n",
       "      <td>3.39</td>\n",
       "    </tr>\n",
       "    <tr>\n",
       "      <th>Nantucket Nectar</th>\n",
       "      <td>1</td>\n",
       "      <td>3.39</td>\n",
       "    </tr>\n",
       "    <tr>\n",
       "      <th>2</th>\n",
       "      <th>Chicken Bowl</th>\n",
       "      <td>2</td>\n",
       "      <td>16.98</td>\n",
       "    </tr>\n",
       "    <tr>\n",
       "      <th>...</th>\n",
       "      <th>...</th>\n",
       "      <td>...</td>\n",
       "      <td>...</td>\n",
       "    </tr>\n",
       "    <tr>\n",
       "      <th>1831</th>\n",
       "      <th>Chips</th>\n",
       "      <td>1</td>\n",
       "      <td>2.15</td>\n",
       "    </tr>\n",
       "    <tr>\n",
       "      <th rowspan=\"2\" valign=\"top\">1832</th>\n",
       "      <th>Chicken Soft Tacos</th>\n",
       "      <td>1</td>\n",
       "      <td>8.75</td>\n",
       "    </tr>\n",
       "    <tr>\n",
       "      <th>Chips and Guacamole</th>\n",
       "      <td>1</td>\n",
       "      <td>4.45</td>\n",
       "    </tr>\n",
       "    <tr>\n",
       "      <th>1833</th>\n",
       "      <th>Steak Burrito</th>\n",
       "      <td>2</td>\n",
       "      <td>23.50</td>\n",
       "    </tr>\n",
       "    <tr>\n",
       "      <th>1834</th>\n",
       "      <th>Chicken Salad Bowl</th>\n",
       "      <td>3</td>\n",
       "      <td>28.75</td>\n",
       "    </tr>\n",
       "  </tbody>\n",
       "</table>\n",
       "<p>4292 rows × 2 columns</p>\n",
       "</div>"
      ],
      "text/plain": [
       "                                                quantity  item_price\n",
       "order_id item_name                                                  \n",
       "1        Chips and Fresh Tomato Salsa                  1        2.39\n",
       "         Chips and Tomatillo-Green Chili Salsa         1        2.39\n",
       "         Izze                                          1        3.39\n",
       "         Nantucket Nectar                              1        3.39\n",
       "2        Chicken Bowl                                  2       16.98\n",
       "...                                                  ...         ...\n",
       "1831     Chips                                         1        2.15\n",
       "1832     Chicken Soft Tacos                            1        8.75\n",
       "         Chips and Guacamole                           1        4.45\n",
       "1833     Steak Burrito                                 2       23.50\n",
       "1834     Chicken Salad Bowl                            3       28.75\n",
       "\n",
       "[4292 rows x 2 columns]"
      ]
     },
     "execution_count": 46,
     "metadata": {},
     "output_type": "execute_result"
    }
   ],
   "source": [
    "df.groupby(['order_id','item_name'])[['quantity','item_price']].sum()"
   ]
  },
  {
   "cell_type": "code",
   "execution_count": 47,
   "id": "acfb2177",
   "metadata": {},
   "outputs": [
    {
     "data": {
      "text/plain": [
       "<Axes: xlabel='order_id,item_name'>"
      ]
     },
     "execution_count": 47,
     "metadata": {},
     "output_type": "execute_result"
    },
    {
     "data": {
      "image/png": "[encoded data removed]",
      "text/plain": [
       "<Figure size 640x480 with 1 Axes>"
      ]
     },
     "metadata": {},
     "output_type": "display_data"
    }
   ],
   "source": [
    "df.groupby(['order_id','item_name'])[['quantity','item_price']].sum().plot.bar()"
   ]
  },
  {
   "cell_type": "code",
   "execution_count": null,
   "id": "5639a7a8",
   "metadata": {},
   "outputs": [],
   "source": []
  }
 ],
 "metadata": {
  "kernelspec": {
   "display_name": "Python 3 (ipykernel)",
   "language": "python",
   "name": "python3"
  },
  "language_info": {
   "codemirror_mode": {
    "name": "ipython",
    "version": 3
   },
   "file_extension": ".py",
   "mimetype": "text/x-python",
   "name": "python",
   "nbconvert_exporter": "python",
   "pygments_lexer": "ipython3",
   "version": "3.11.5"
  }
 },
 "nbformat": 4,
 "nbformat_minor": 5
}
