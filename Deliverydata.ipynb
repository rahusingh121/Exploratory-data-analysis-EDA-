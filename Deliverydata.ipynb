{
 "cells": [
  {
   "cell_type": "markdown",
   "id": "5ae5464a",
   "metadata": {},
   "source": [
    "# https://www.kaggle.com/datasets/rajatkumar30/food-delivery-time  (Dataset from kaggel)"
   ]
  },
  {
   "cell_type": "code",
   "execution_count": 2,
   "id": "6a6d7589",
   "metadata": {},
   "outputs": [],
   "source": [
    "import pandas as pd"
   ]
  },
  {
   "cell_type": "code",
   "execution_count": 2,
   "id": "32be2835",
   "metadata": {},
   "outputs": [],
   "source": [
    "df=pd.read_csv('C:\\\\Users\\\\Rahul Singh Chib\\\\Desktop\\\\CLASPANDU\\\\deliverytime.csv')"
   ]
  },
  {
   "cell_type": "code",
   "execution_count": 7,
   "id": "53d4a3f6",
   "metadata": {},
   "outputs": [
    {
     "data": {
      "text/html": [
       "<div>\n",
       "<style scoped>\n",
       "    .dataframe tbody tr th:only-of-type {\n",
       "        vertical-align: middle;\n",
       "    }\n",
       "\n",
       "    .dataframe tbody tr th {\n",
       "        vertical-align: top;\n",
       "    }\n",
       "\n",
       "    .dataframe thead th {\n",
       "        text-align: right;\n",
       "    }\n",
       "</style>\n",
       "<table border=\"1\" class=\"dataframe\">\n",
       "  <thead>\n",
       "    <tr style=\"text-align: right;\">\n",
       "      <th></th>\n",
       "      <th>ID</th>\n",
       "      <th>Delivery_person_ID</th>\n",
       "      <th>Delivery_person_Age</th>\n",
       "      <th>Delivery_person_Ratings</th>\n",
       "      <th>Restaurant_latitude</th>\n",
       "      <th>Restaurant_longitude</th>\n",
       "      <th>Delivery_location_latitude</th>\n",
       "      <th>Delivery_location_longitude</th>\n",
       "      <th>Type_of_order</th>\n",
       "      <th>Type_of_vehicle</th>\n",
       "      <th>Time_taken(min)</th>\n",
       "    </tr>\n",
       "  </thead>\n",
       "  <tbody>\n",
       "    <tr>\n",
       "      <th>0</th>\n",
       "      <td>4607</td>\n",
       "      <td>INDORES13DEL02</td>\n",
       "      <td>37</td>\n",
       "      <td>4.9</td>\n",
       "      <td>22.745049</td>\n",
       "      <td>75.892471</td>\n",
       "      <td>22.765049</td>\n",
       "      <td>75.912471</td>\n",
       "      <td>Snack</td>\n",
       "      <td>motorcycle</td>\n",
       "      <td>24</td>\n",
       "    </tr>\n",
       "    <tr>\n",
       "      <th>1</th>\n",
       "      <td>B379</td>\n",
       "      <td>BANGRES18DEL02</td>\n",
       "      <td>34</td>\n",
       "      <td>4.5</td>\n",
       "      <td>12.913041</td>\n",
       "      <td>77.683237</td>\n",
       "      <td>13.043041</td>\n",
       "      <td>77.813237</td>\n",
       "      <td>Snack</td>\n",
       "      <td>scooter</td>\n",
       "      <td>33</td>\n",
       "    </tr>\n",
       "    <tr>\n",
       "      <th>2</th>\n",
       "      <td>5D6D</td>\n",
       "      <td>BANGRES19DEL01</td>\n",
       "      <td>23</td>\n",
       "      <td>4.4</td>\n",
       "      <td>12.914264</td>\n",
       "      <td>77.678400</td>\n",
       "      <td>12.924264</td>\n",
       "      <td>77.688400</td>\n",
       "      <td>Drinks</td>\n",
       "      <td>motorcycle</td>\n",
       "      <td>26</td>\n",
       "    </tr>\n",
       "    <tr>\n",
       "      <th>3</th>\n",
       "      <td>7A6A</td>\n",
       "      <td>COIMBRES13DEL02</td>\n",
       "      <td>38</td>\n",
       "      <td>4.7</td>\n",
       "      <td>11.003669</td>\n",
       "      <td>76.976494</td>\n",
       "      <td>11.053669</td>\n",
       "      <td>77.026494</td>\n",
       "      <td>Buffet</td>\n",
       "      <td>motorcycle</td>\n",
       "      <td>21</td>\n",
       "    </tr>\n",
       "    <tr>\n",
       "      <th>4</th>\n",
       "      <td>70A2</td>\n",
       "      <td>CHENRES12DEL01</td>\n",
       "      <td>32</td>\n",
       "      <td>4.6</td>\n",
       "      <td>12.972793</td>\n",
       "      <td>80.249982</td>\n",
       "      <td>13.012793</td>\n",
       "      <td>80.289982</td>\n",
       "      <td>Snack</td>\n",
       "      <td>scooter</td>\n",
       "      <td>30</td>\n",
       "    </tr>\n",
       "    <tr>\n",
       "      <th>...</th>\n",
       "      <td>...</td>\n",
       "      <td>...</td>\n",
       "      <td>...</td>\n",
       "      <td>...</td>\n",
       "      <td>...</td>\n",
       "      <td>...</td>\n",
       "      <td>...</td>\n",
       "      <td>...</td>\n",
       "      <td>...</td>\n",
       "      <td>...</td>\n",
       "      <td>...</td>\n",
       "    </tr>\n",
       "    <tr>\n",
       "      <th>45588</th>\n",
       "      <td>7C09</td>\n",
       "      <td>JAPRES04DEL01</td>\n",
       "      <td>30</td>\n",
       "      <td>4.8</td>\n",
       "      <td>26.902328</td>\n",
       "      <td>75.794257</td>\n",
       "      <td>26.912328</td>\n",
       "      <td>75.804257</td>\n",
       "      <td>Meal</td>\n",
       "      <td>motorcycle</td>\n",
       "      <td>32</td>\n",
       "    </tr>\n",
       "    <tr>\n",
       "      <th>45589</th>\n",
       "      <td>D641</td>\n",
       "      <td>AGRRES16DEL01</td>\n",
       "      <td>21</td>\n",
       "      <td>4.6</td>\n",
       "      <td>0.000000</td>\n",
       "      <td>0.000000</td>\n",
       "      <td>0.070000</td>\n",
       "      <td>0.070000</td>\n",
       "      <td>Buffet</td>\n",
       "      <td>motorcycle</td>\n",
       "      <td>36</td>\n",
       "    </tr>\n",
       "    <tr>\n",
       "      <th>45590</th>\n",
       "      <td>4F8D</td>\n",
       "      <td>CHENRES08DEL03</td>\n",
       "      <td>30</td>\n",
       "      <td>4.9</td>\n",
       "      <td>13.022394</td>\n",
       "      <td>80.242439</td>\n",
       "      <td>13.052394</td>\n",
       "      <td>80.272439</td>\n",
       "      <td>Drinks</td>\n",
       "      <td>scooter</td>\n",
       "      <td>16</td>\n",
       "    </tr>\n",
       "    <tr>\n",
       "      <th>45591</th>\n",
       "      <td>5EEE</td>\n",
       "      <td>COIMBRES11DEL01</td>\n",
       "      <td>20</td>\n",
       "      <td>4.7</td>\n",
       "      <td>11.001753</td>\n",
       "      <td>76.986241</td>\n",
       "      <td>11.041753</td>\n",
       "      <td>77.026241</td>\n",
       "      <td>Snack</td>\n",
       "      <td>motorcycle</td>\n",
       "      <td>26</td>\n",
       "    </tr>\n",
       "    <tr>\n",
       "      <th>45592</th>\n",
       "      <td>5FB2</td>\n",
       "      <td>RANCHIRES09DEL02</td>\n",
       "      <td>23</td>\n",
       "      <td>4.9</td>\n",
       "      <td>23.351058</td>\n",
       "      <td>85.325731</td>\n",
       "      <td>23.431058</td>\n",
       "      <td>85.405731</td>\n",
       "      <td>Snack</td>\n",
       "      <td>scooter</td>\n",
       "      <td>36</td>\n",
       "    </tr>\n",
       "  </tbody>\n",
       "</table>\n",
       "<p>45593 rows × 11 columns</p>\n",
       "</div>"
      ],
      "text/plain": [
       "         ID Delivery_person_ID  Delivery_person_Age  Delivery_person_Ratings  \\\n",
       "0      4607     INDORES13DEL02                   37                      4.9   \n",
       "1      B379     BANGRES18DEL02                   34                      4.5   \n",
       "2      5D6D     BANGRES19DEL01                   23                      4.4   \n",
       "3      7A6A    COIMBRES13DEL02                   38                      4.7   \n",
       "4      70A2     CHENRES12DEL01                   32                      4.6   \n",
       "...     ...                ...                  ...                      ...   \n",
       "45588  7C09      JAPRES04DEL01                   30                      4.8   \n",
       "45589  D641      AGRRES16DEL01                   21                      4.6   \n",
       "45590  4F8D     CHENRES08DEL03                   30                      4.9   \n",
       "45591  5EEE    COIMBRES11DEL01                   20                      4.7   \n",
       "45592  5FB2   RANCHIRES09DEL02                   23                      4.9   \n",
       "\n",
       "       Restaurant_latitude  Restaurant_longitude  Delivery_location_latitude  \\\n",
       "0                22.745049             75.892471                   22.765049   \n",
       "1                12.913041             77.683237                   13.043041   \n",
       "2                12.914264             77.678400                   12.924264   \n",
       "3                11.003669             76.976494                   11.053669   \n",
       "4                12.972793             80.249982                   13.012793   \n",
       "...                    ...                   ...                         ...   \n",
       "45588            26.902328             75.794257                   26.912328   \n",
       "45589             0.000000              0.000000                    0.070000   \n",
       "45590            13.022394             80.242439                   13.052394   \n",
       "45591            11.001753             76.986241                   11.041753   \n",
       "45592            23.351058             85.325731                   23.431058   \n",
       "\n",
       "       Delivery_location_longitude Type_of_order Type_of_vehicle  \\\n",
       "0                        75.912471        Snack      motorcycle    \n",
       "1                        77.813237        Snack         scooter    \n",
       "2                        77.688400       Drinks      motorcycle    \n",
       "3                        77.026494       Buffet      motorcycle    \n",
       "4                        80.289982        Snack         scooter    \n",
       "...                            ...           ...             ...   \n",
       "45588                    75.804257         Meal      motorcycle    \n",
       "45589                     0.070000       Buffet      motorcycle    \n",
       "45590                    80.272439       Drinks         scooter    \n",
       "45591                    77.026241        Snack      motorcycle    \n",
       "45592                    85.405731        Snack         scooter    \n",
       "\n",
       "       Time_taken(min)  \n",
       "0                   24  \n",
       "1                   33  \n",
       "2                   26  \n",
       "3                   21  \n",
       "4                   30  \n",
       "...                ...  \n",
       "45588               32  \n",
       "45589               36  \n",
       "45590               16  \n",
       "45591               26  \n",
       "45592               36  \n",
       "\n",
       "[45593 rows x 11 columns]"
      ]
     },
     "execution_count": 7,
     "metadata": {},
     "output_type": "execute_result"
    }
   ],
   "source": [
    "df"
   ]
  },
  {
   "cell_type": "markdown",
   "id": "d56d9e15",
   "metadata": {},
   "source": [
    "# Q1.time taken by diff age group people"
   ]
  },
  {
   "cell_type": "code",
   "execution_count": 45,
   "id": "fbb52ddc",
   "metadata": {},
   "outputs": [
    {
     "data": {
      "text/plain": [
       "Delivery_person_Age\n",
       "15    26.000000\n",
       "20    22.898876\n",
       "21    22.908500\n",
       "22    22.934426\n",
       "23    23.197413\n",
       "24    23.059729\n",
       "25    22.819227\n",
       "26    22.948124\n",
       "27    23.053023\n",
       "28    23.166590\n",
       "29    24.543140\n",
       "30    29.170710\n",
       "31    29.659906\n",
       "32    29.886013\n",
       "33    29.494742\n",
       "34    29.607110\n",
       "35    29.608311\n",
       "36    29.500885\n",
       "37    29.248316\n",
       "38    29.447950\n",
       "39    29.739739\n",
       "50    23.943396\n",
       "Name: Time_taken(min), dtype: float64"
      ]
     },
     "execution_count": 45,
     "metadata": {},
     "output_type": "execute_result"
    }
   ],
   "source": [
    "df.groupby('Delivery_person_Age')['Time_taken(min)'].mean()"
   ]
  },
  {
   "cell_type": "code",
   "execution_count": 46,
   "id": "584aa65e",
   "metadata": {},
   "outputs": [
    {
     "data": {
      "text/plain": [
       "<Axes: xlabel='Delivery_person_Age'>"
      ]
     },
     "execution_count": 46,
     "metadata": {},
     "output_type": "execute_result"
    },
    {
     "data": {
      "image/png": "[encoded data removed]",
      "text/plain": [
       "<Figure size 640x480 with 1 Axes>"
      ]
     },
     "metadata": {},
     "output_type": "display_data"
    }
   ],
   "source": [
    "df.groupby('Delivery_person_Age')['Time_taken(min)'].mean().plot.bar()"
   ]
  },
  {
   "cell_type": "markdown",
   "id": "669ce60e",
   "metadata": {},
   "source": [
    "# Q2.time taken is depending on type of food"
   ]
  },
  {
   "cell_type": "code",
   "execution_count": 47,
   "id": "5aa3918a",
   "metadata": {},
   "outputs": [
    {
     "data": {
      "text/plain": [
       "<Axes: xlabel='Type_of_order'>"
      ]
     },
     "execution_count": 47,
     "metadata": {},
     "output_type": "execute_result"
    },
    {
     "data": {
      "image/png": "[encoded data removed]",
      "text/plain": [
       "<Figure size 640x480 with 1 Axes>"
      ]
     },
     "metadata": {},
     "output_type": "display_data"
    }
   ],
   "source": [
    "df['Type_of_order'].value_counts().plot.bar()"
   ]
  },
  {
   "cell_type": "markdown",
   "id": "23916e4c",
   "metadata": {},
   "source": [
    "# Q3.which average people have motorcycle"
   ]
  },
  {
   "cell_type": "code",
   "execution_count": 17,
   "id": "4fab2283",
   "metadata": {},
   "outputs": [
    {
     "data": {
      "text/plain": [
       "Type_of_vehicle\n",
       "motorcycle           26435\n",
       "scooter              15276\n",
       "electric_scooter      3814\n",
       "bicycle                 68\n",
       "Name: count, dtype: int64"
      ]
     },
     "execution_count": 17,
     "metadata": {},
     "output_type": "execute_result"
    }
   ],
   "source": [
    "df['Type_of_vehicle'].value_counts()"
   ]
  },
  {
   "cell_type": "code",
   "execution_count": 18,
   "id": "f1a328e2",
   "metadata": {},
   "outputs": [],
   "source": [
    "df['Type_of_vehicle'] =df['Type_of_vehicle'].str.strip()"
   ]
  },
  {
   "cell_type": "code",
   "execution_count": 35,
   "id": "1d1d96d6",
   "metadata": {},
   "outputs": [
    {
     "data": {
      "text/plain": [
       "ID       Delivery_person_ID  Delivery_person_Age  Delivery_person_Ratings  Restaurant_latitude  Restaurant_longitude  Delivery_location_latitude  Delivery_location_longitude  Type_of_order  Type_of_vehicle  Time_taken(min)\n",
       "1.1E+01  CHENRES18DEL01      30                   4.3                      12.981615            80.231598             13.021615                   80.271598                    Snack          scooter          33                 1\n",
       "9ED3     JAPRES02DEL02       29                   5.0                      26.914142            75.805704             26.994142                   75.885704                    Drinks         scooter          36                 1\n",
       "9EA7     VADRES16DEL02       22                   4.9                      0.000000             0.000000              0.050000                    0.050000                     Snack          scooter          29                 1\n",
       "9EA8     VADRES13DEL01       29                   4.7                      22.310237            73.158921             22.380237                   73.228921                    Drinks         scooter          29                 1\n",
       "9EAA     RANCHIRES20DEL02    24                   4.7                      23.399250            85.390464             23.449250                   85.440464                    Meal           scooter          28                 1\n",
       "                                                                                                                                                                                                                                 ..\n",
       "580B     RANCHIRES05DEL03    26                   4.9                      23.355164            85.324097             23.385164                   85.354097                    Drinks         scooter          29                 1\n",
       "580C     RANCHIRES13DEL02    31                   4.6                      23.374989            85.335486             23.394989                   85.355486                    Meal           scooter          19                 1\n",
       "5814     HYDRES02DEL03       20                   4.9                      17.412330            78.449654             17.472330                   78.509654                    Buffet         scooter          14                 1\n",
       "5815     INDORES08DEL02      28                   4.5                      22.725748            75.898497             22.775748                   75.948497                    Buffet         scooter          14                 1\n",
       "FFE      SURRES06DEL01       25                   4.9                      21.185047            72.808590             21.295047                   72.918590                    Snack          scooter          24                 1\n",
       "Name: count, Length: 15276, dtype: int64"
      ]
     },
     "execution_count": 35,
     "metadata": {},
     "output_type": "execute_result"
    }
   ],
   "source": [
    "v =df[df['Type_of_vehicle']== 'scooter'"
   ]
  },
  {
   "cell_type": "code",
   "execution_count": 32,
   "id": "71966f80",
   "metadata": {},
   "outputs": [
    {
     "data": {
      "text/plain": [
       "<Axes: xlabel='Delivery_person_Age'>"
      ]
     },
     "execution_count": 32,
     "metadata": {},
     "output_type": "execute_result"
    },
    {
     "data": {
      "image/png": "[encoded data removed]",
      "text/plain": [
       "<Figure size 640x480 with 1 Axes>"
      ]
     },
     "metadata": {},
     "output_type": "display_data"
    }
   ],
   "source": [
    "v['Delivery_person_Age'].value_counts().plot.bar()"
   ]
  },
  {
   "cell_type": "markdown",
   "id": "a1be0f90",
   "metadata": {},
   "source": [
    "# Q4.high rating people delivery food is less time"
   ]
  },
  {
   "cell_type": "code",
   "execution_count": 38,
   "id": "2a6b869f",
   "metadata": {},
   "outputs": [
    {
     "data": {
      "text/plain": [
       "Delivery_person_Ratings\n",
       "1.0    13\n",
       "2.5    31\n",
       "2.6    31\n",
       "2.7    31\n",
       "2.8    31\n",
       "2.9    31\n",
       "3.0    31\n",
       "3.1    31\n",
       "3.2    31\n",
       "3.3    31\n",
       "3.4    31\n",
       "3.5    31\n",
       "3.6    31\n",
       "3.7    31\n",
       "3.8    31\n",
       "3.9    31\n",
       "4.0    15\n",
       "4.1    15\n",
       "4.2    15\n",
       "4.3    15\n",
       "4.4    15\n",
       "4.5    10\n",
       "4.6    10\n",
       "4.7    10\n",
       "4.8    10\n",
       "4.9    10\n",
       "5.0    10\n",
       "6.0    11\n",
       "Name: Time_taken(min), dtype: int64"
      ]
     },
     "execution_count": 38,
     "metadata": {},
     "output_type": "execute_result"
    }
   ],
   "source": [
    "df.groupby('Delivery_person_Ratings')['Time_taken(min)'].min()\n"
   ]
  },
  {
   "cell_type": "markdown",
   "id": "6837a2d2",
   "metadata": {},
   "source": [
    "# Q5.Type of vehicle is depending on rating"
   ]
  },
  {
   "cell_type": "code",
   "execution_count": 41,
   "id": "1dcfd1b8",
   "metadata": {},
   "outputs": [
    {
     "data": {
      "image/png": "[encoded data removed]",
      "text/plain": [
       "<Figure size 640x480 with 1 Axes>"
      ]
     },
     "metadata": {},
     "output_type": "display_data"
    }
   ],
   "source": [
    "import matplotlib.pyplot as plt\n",
    "\n",
    "df.groupby('Type_of_vehicle')['Delivery_person_Ratings'].value_counts().plot.bar()\n",
    "plt.xlabel('Type of vehicle')\n",
    "plt.ylabel('rating')\n",
    "plt.show()"
   ]
  },
  {
   "cell_type": "code",
   "execution_count": null,
   "id": "233c967c",
   "metadata": {},
   "outputs": [],
   "source": []
  },
  {
   "cell_type": "code",
   "execution_count": null,
   "id": "74f9268e",
   "metadata": {},
   "outputs": [],
   "source": []
  }
 ],
 "metadata": {
  "kernelspec": {
   "display_name": "Python 3 (ipykernel)",
   "language": "python",
   "name": "python3"
  },
  "language_info": {
   "codemirror_mode": {
    "name": "ipython",
    "version": 3
   },
   "file_extension": ".py",
   "mimetype": "text/x-python",
   "name": "python",
   "nbconvert_exporter": "python",
   "pygments_lexer": "ipython3",
   "version": "3.11.5"
  }
 },
 "nbformat": 4,
 "nbformat_minor": 5
}
